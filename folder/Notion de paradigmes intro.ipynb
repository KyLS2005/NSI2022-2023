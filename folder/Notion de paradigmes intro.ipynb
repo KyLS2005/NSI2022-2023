{
 "cells": [
  {
   "cell_type": "markdown",
   "metadata": {},
   "source": [
    "## Rappels de programmation impérative structurée et procédurale en Python...\n",
    "\n",
    "<h3 class='fa fa-code' style=\"color: darkorange\"> Activités de rappels à faire :</h3>\n",
    "\n",
    "### Exercice : Série de notes\n",
    "Écrire un programme qui permet :\n",
    "- de demander à l’utilisateur combien de notes il souhaite saisir → [ n ]\n",
    "- de saisir les [ n ] notes comprise entre [ 0 ; 20 ]\n",
    "- d’afficher la note la plus faible et la note la plus élevée\n",
    "- de calculer la moyenne\n",
    "\n",
    "### TP : Clé de vérification du code ISBN d’un livre\n",
    "\n",
    "A l'aide du [document ressource](https://ericecmorlaix.github.io/pdf/res_ISBN.pdf), écrire un programme qui vérifie que le code ISBN saisi ne contient pas d’erreur.\n",
    "\n",
    "Afin de vérifier les codes suivants :\n",
    "\n",
    "![Codes à vérifier](https://isn-icn-ljm.pagesperso-orange.fr/1-NSI/res/image_isbn2_1.png)"
   ]
  },
  {
   "cell_type": "code",
   "execution_count": null,
   "metadata": {},
   "outputs": [],
   "source": [
    "def serie_note:\n",
    "\n",
    "    nombres_notes_global = nombres_notes()\n",
    "\n",
    "    valeur_note_global = valeur_note ()\n",
    "    \n",
    "    \n",
    "    #affichage minimum\n",
    "\n",
    "    print(minimum())\n",
    "\n",
    "    #affichage maximum\n",
    "\n",
    "    print(maximum())\n",
    "\n",
    "    #affichage moyenne\n",
    "\n",
    "    print(moyenne())"
   ]
  },
  {
   "cell_type": "code",
   "execution_count": null,
   "metadata": {},
   "outputs": [],
   "source": [
    "def nombres_notes():\n",
    "    ''' demande un nombre entier puis le retourne'''\n",
    "    \n",
    "    nombres_notes = int(input('saisissez le nombre de notes que vous voulez insérer'))\n",
    "    return nombres_notes"
   ]
  },
  {
   "cell_type": "code",
   "execution_count": null,
   "metadata": {},
   "outputs": [],
   "source": [
    "def valeur_note ():\n",
    "    valeur_note = float(input('Saisissez la note'))\n",
    "    while valeur_note < 0 or valeur_note > 20:\n",
    "        # tant que la valeur est inférieur à 0 ou supérieur à 20\n",
    "        print('la valeur n est pas bonne')\n",
    "        valeur_note = float(input())"
   ]
  },
  {
   "cell_type": "code",
   "execution_count": null,
   "metadata": {},
   "outputs": [],
   "source": [
    "liste_notes = [valeur_note() for i in range(nombres_notes())]"
   ]
  },
  {
   "cell_type": "markdown",
   "metadata": {},
   "source": [
    "## Construction de l'algorithme :"
   ]
  },
  {
   "cell_type": "code",
   "execution_count": 140,
   "metadata": {},
   "outputs": [
    {
     "name": "stdout",
     "output_type": "stream",
     "text": [
      "La note mini est 18.0\n",
      "La note maxi est 18.0\n",
      "La moyenne des notes est 18.0\n"
     ]
    }
   ],
   "source": [
    "# Construction du programme à développer à l'aide des commentaires :\n",
    "\n",
    "# demander à l’utilisateur combien de notes il souhaite saisir → [ n ]\n",
    "nb_notes = demander_entier_V2(\"Combien de notes sont à saisir ? \")\n",
    "\n",
    "# saisir les [ n ] notes comprise entre [ 0 ; 20 ]\n",
    "notes = [ saisir_note() for i in range(nb_notes)] # Complété en classe\n",
    "\n",
    "# afficher la note la plus faible et la note la plus élevée\n",
    "print(f\"La note mini est {minimum_table(notes)}\")\n",
    "print(f\"La note maxi est {maximum_table(notes)}\")\n",
    "\n",
    "# calculer la moyenne\n",
    "print(f\"La moyenne des notes est {moyenne_table(notes)}\")"
   ]
  },
  {
   "cell_type": "code",
   "execution_count": 138,
   "metadata": {},
   "outputs": [],
   "source": [
    "def demander_entier_V2(message : str) -> int :\n",
    "    \"\"\" ==================================================================================================================\n",
    "    \n",
    "        * Description : \n",
    "            Je demande à l'utilisateur un nombre correspondant à la question du message et renvoie le résultat au format entier ;\n",
    "                > avec une gestion de vérification de la validité de la saisie utilisateur.\n",
    "                        \n",
    "        * Exemple :\n",
    "            >>> demander_entier(\"Combien de notes sont à saisir ? \")\n",
    "            Combien de notes sont à saisir ? 5\n",
    "            5\n",
    "                                           \n",
    "        * Préconditions :\n",
    "            message (str) : question définissant le nombre à saisir ;\n",
    "                    \n",
    "        * Postconditions :\n",
    "            (int) : la valeur saisie convertie en entier.       \n",
    "        \n",
    "        ==================================================================================================================\n",
    "    \"\"\"\n",
    "    # Assertions de vérification des préconditions :\n",
    "    assert type(message) == str  , \"Le message doit être une chaine de caractères.\"\n",
    "            \n",
    "    # bloc d'instructions :\n",
    "    try :\n",
    "        nombre = int(input(message))\n",
    "        return nombre\n",
    "    except ValueError :\n",
    "        print(\"La valeur saisie doit être convertible en un nombre entier exprimé en base 10 : \\n    -> la saisie ne doit pas contenir d'autres caractères que 0, 1, 2, 3, 4, 5, 6, 7, 8, 9\")\n",
    "        "
   ]
  },
  {
   "cell_type": "code",
   "execution_count": 95,
   "metadata": {},
   "outputs": [
    {
     "data": {
      "text/plain": [
       "5"
      ]
     },
     "execution_count": 95,
     "metadata": {},
     "output_type": "execute_result"
    }
   ],
   "source": [
    "demander_entier_V2()"
   ]
  },
  {
   "cell_type": "markdown",
   "metadata": {},
   "source": [
    "## Autres fonctions :"
   ]
  },
  {
   "cell_type": "code",
   "execution_count": 132,
   "metadata": {},
   "outputs": [],
   "source": [
    "def saisir_note() -> float :\n",
    "    \"\"\" ==================================================================================================================\n",
    "    \n",
    "        * Description : \n",
    "            demande de saisir une note et vérifier si elle est entre 0 et 20\n",
    "            \n",
    "        * Exemple :\n",
    "            >>>saisir_note()\n",
    "            valeur de la note -> 5\n",
    "            5          \n",
    "        * Préconditions :  \n",
    "            float ou int\n",
    "        * Postconditions :\n",
    "            (float) : la valeur saisie convertie en float.       \n",
    "        \n",
    "        ==================================================================================================================\n",
    "    \"\"\"\n",
    "    \n",
    "    \n",
    "    # Instructions A CODER\n",
    "    note = float(input('Saisissez la note'))\n",
    "\n",
    "    assert type(note) == float  , \"Le message doit être un flottant.\"\n",
    "    assert note >= 0   , \"la valeur doit être supérieure ou égale à 0\"\n",
    "    assert note <= 20 , \"la valeur doit être inférieure ou égale à 20\"\n",
    "\n",
    "    return note\n"
   ]
  },
  {
   "cell_type": "code",
   "execution_count": 135,
   "metadata": {},
   "outputs": [
    {
     "data": {
      "text/plain": [
       "2.0"
      ]
     },
     "execution_count": 135,
     "metadata": {},
     "output_type": "execute_result"
    }
   ],
   "source": [
    "saisir_note()"
   ]
  },
  {
   "cell_type": "code",
   "execution_count": 100,
   "metadata": {},
   "outputs": [],
   "source": [
    "def minimum_table(valeurs:list) -> float :\n",
    "    \"\"\" ==================================================================================================================\n",
    "    \n",
    "        * Description : \n",
    "            prends le minimum d'une liste en comparant chaques indices\n",
    "        * Exemple :\n",
    "        liste = [1 , 0.2]\n",
    "        minimum_table(liste)\n",
    "        0.2            \n",
    "        * Préconditions :  \n",
    "            liste de float ou d'int\n",
    "        * Postconditions :\n",
    "            (float) : la valeur mini de la liste d'entrée.       \n",
    "        \n",
    "        ==================================================================================================================\n",
    "    \"\"\"\n",
    "    # Instructions A CODER\n",
    "    mini = valeurs[0]\n",
    "    for i in valeurs :\n",
    "        if mini > i:\n",
    "            mini = i \n",
    "\n",
    "    return mini"
   ]
  },
  {
   "cell_type": "code",
   "execution_count": 137,
   "metadata": {},
   "outputs": [],
   "source": [
    "def maximum_table(valeurs:list) -> float :\n",
    "    \"\"\" ==================================================================================================================\n",
    "    \n",
    "        * Description : \n",
    "            prends le maximum d'une liste en comparant chaques indices\n",
    "        * Exemple :\n",
    "        liste = [1 , 0.2]\n",
    "        maximum_table(liste)\n",
    "        1            \n",
    "        * Préconditions :  \n",
    "            liste de float ou d'int\n",
    "        * Postconditions :\n",
    "            (float) : la valeur maxi de la liste d'entrée.       \n",
    "        \n",
    "        ==================================================================================================================\n",
    "    \"\"\"\n",
    "    # Instructions A CODER\n",
    "    maxi = valeurs[0]\n",
    "    for i in valeurs :\n",
    "        if maxi < i:\n",
    "            maxi = i \n",
    "\n",
    "    return maxi"
   ]
  },
  {
   "cell_type": "code",
   "execution_count": 102,
   "metadata": {},
   "outputs": [],
   "source": [
    "def moyenne_table(valeurs:list) -> float :\n",
    "    \"\"\" ==================================================================================================================\n",
    "    \n",
    "         * Description : \n",
    "            fais la somme de tout les indices puis les divises par la longueur de la liste\n",
    "        * Exemple :\n",
    "        liste = [1 , 0.2]\n",
    "        moyenne_table(liste)\n",
    "        0.6                \n",
    "        * Préconditions :  \n",
    "            liste de float ou d'int            \n",
    "        * Postconditions :\n",
    "            (float) : la valeur moyenne de la liste d'entrée.       \n",
    "        \n",
    "        ==================================================================================================================\n",
    "    \"\"\"\n",
    "    # Instructions A CODER\n",
    "    total = 0\n",
    "    for i in valeurs :\n",
    "        total += i\n",
    "    moyenne = total/len(valeurs)\n",
    "    return moyenne"
   ]
  },
  {
   "cell_type": "code",
   "execution_count": 46,
   "metadata": {},
   "outputs": [
    {
     "data": {
      "text/plain": [
       "1.05"
      ]
     },
     "execution_count": 46,
     "metadata": {},
     "output_type": "execute_result"
    }
   ],
   "source": [
    "liste = [0.1 , 2]\n",
    "moyenne_table(liste)"
   ]
  }
 ],
 "metadata": {
  "kernelspec": {
   "display_name": "Python 3.8.13 64-bit ('shims')",
   "language": "python",
   "name": "python3"
  },
  "language_info": {
   "codemirror_mode": {
    "name": "ipython",
    "version": 3
   },
   "file_extension": ".py",
   "mimetype": "text/x-python",
   "name": "python",
   "nbconvert_exporter": "python",
   "pygments_lexer": "ipython3",
   "version": "3.8.13"
  },
  "orig_nbformat": 4,
  "vscode": {
   "interpreter": {
    "hash": "9ac03a0a6051494cc606d484d27d20fce22fb7b4d169f583271e11d5ba46a56e"
   }
  }
 },
 "nbformat": 4,
 "nbformat_minor": 2
}
