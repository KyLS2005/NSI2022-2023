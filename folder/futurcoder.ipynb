{
 "cells": [
  {
   "cell_type": "code",
   "execution_count": null,
   "metadata": {},
   "outputs": [],
   "source": [
    "\n",
    "\n",
    "'''\n",
    "\n",
    "\n",
    "'''\n",
    "\n",
    "'''\n",
    "Une chaine de caractère et un variable en contenant une peuvent s'additionner\n",
    "de même avec deux variables contenant le même type de valeur\n",
    "La commande print()  permet d'afficher dans la console supprimant les guillemet des chaine de caractère au passage\n",
    "'''\n",
    "\n",
    "'''\n",
    "L'éditeur permet d'exécuter des scripts beaucoup plus long\n",
    "Python exécute les lignes de haut en bas\n",
    "les valeurs peuvent changer et plusieurs éléments peuvent être renvoyés\n",
    "Les valeurs affichés ne se font pas de la même façon que dans la console\n",
    "si on ne marque que une chaine de caractère dans l'éditeur rien ne sera affiché\n",
    "la commande print() quand elle permet de la renvoyer depuis l'éditeur\n",
    "'''\n",
    "\n",
    "'''\n",
    "une variable dépendente d'autres variables ne sera pas mis à jour si une de celles qui la compose évolue\n",
    "'''\n",
    "\n",
    "'''\n",
    "les boucles for sont constituées généralement d'une variable, d'un itérable et du code à répéter\n",
    "(ex : for caractere in nom: print(caractere) -> w )\n",
    "(                                               o )\n",
    "(                                               l )\n",
    "(                                               r )\n",
    "(                                               d )\n",
    "for,in et : sont importants pour qu'une boucle puisse fonctionner\n",
    "cette même boucle peut s'écrire :\n",
    "for caractere in nom:\n",
    "    print(caractere)\n",
    "! attention à l'indentation pour que le code dans la boucle puisse être valide\n",
    "le code nom indenté s'exécutera après la boucle\n",
    "l'indentation est égale à 4 espaces plus simplement utilisez la touche \"Tab\" du clavier\n",
    "\n",
    "'''\n",
    "\n",
    "'''\n"
   ]
  },
  {
   "cell_type": "markdown",
   "metadata": {},
   "source": [
    "### Démarrer avec la console\n",
    "**La console** _(Fenêtre noire)_ est l'endroit où on exécute du code _(de petite scripts)_.  \n",
    "  \n",
    "Les **flèches directrices** _(haut et bas)_ permettent de se diriger dans l'**historique** des lignes de code\n",
    "précédentes.   \n",
    "##### Python permet par exemple de faire différents calculs :  \n",
    "\n",
    "- ' * ' pour multiplier   \n",
    "- ' / ' pour diviser   \n",
    "- ' + ' pour additionner   \n",
    "- ' - ' pour soustraire  \n",
    "\n",
    "_(ex : 1+2 -> 3)_  \n",
    "_note: les parenthèse sont utilisables_  \n",
    "\n",
    "\n",
    "### Les chaines de caractère  \n",
    "  \n",
    "Les **chaines de caractères** _(string)_ sont caractérisées par des **guillemets**.  \n",
    "  \n",
    "_(ex : 'hello' ou \"hello\")_  \n",
    "  \n",
    "Elles peuvent **s'ajouter** entre elles en faisant une somme.  \n",
    "  \n",
    "_(ex : 'hello' + 'world' -> 'helloworld')_  \n",
    "  \n",
    "On peut aussi rajouter un espace dans une chaine de caractère.  \n",
    "  \n",
    "_(ex : 'hello ' + 'world' ou 'hello' + ' world' ou 'hello' + ' ' + ' world' -> 'hello world')_\n",
    "  \n",
    "### Les Variables \n",
    "\n",
    "Une **variable** est une valeur **inconnu** comme x ou n'importe quelle caractère ou suite de caractère.  \n",
    "Elle permet de contenir certaines valeurs et peut évoluer au fur et à mesure de l'exécution.  \n",
    "On la définie avec \" = \"  \n",
    "_(ex : mot = 'Hello')_\n",
    "La variable mot fera donc appelle à ce qu'elle contient  \n",
    "_**! Attention** si on met des guillemet cela sera considéré comme une **chaine de caractère** et non une variable_  \n",
    "Si la variable n'est **pas** défini cela renvoiera un message d'erreur\n",
    "on utilise \" _ \" à la place des espaces pour les variables  "
   ]
  },
  {
   "cell_type": "markdown",
   "metadata": {},
   "source": [
    "```python\n",
    "nom = 'World'\n",
    "for caractere in nom: \n",
    "    print(caractere)\n",
    "  print('---')\n",
    "\n",
    "```"
   ]
  },
  {
   "cell_type": "markdown",
   "metadata": {},
   "source": []
  }
 ],
 "metadata": {
  "kernelspec": {
   "display_name": "Python 3.8.13 64-bit ('shims')",
   "language": "python",
   "name": "python3"
  },
  "language_info": {
   "name": "python",
   "version": "3.8.13"
  },
  "orig_nbformat": 4,
  "vscode": {
   "interpreter": {
    "hash": "9ac03a0a6051494cc606d484d27d20fce22fb7b4d169f583271e11d5ba46a56e"
   }
  }
 },
 "nbformat": 4,
 "nbformat_minor": 2
}
