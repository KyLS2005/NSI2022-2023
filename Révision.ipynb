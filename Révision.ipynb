{
 "cells": [
  {
   "attachments": {},
   "cell_type": "markdown",
   "metadata": {},
   "source": [
    "### Exercice 1\n",
    "1) a)\n",
    "Chaque noeud de l'arbre possède au plus deux fils\n",
    "    b)\n",
    "    non car les deux fils de la racine ont une valeur inférieur à celle de la racine\n",
    "\n",
    "2) a) \n",
    "    assert isinstance(mini, int) and isinstance(max , int) and  mini <= maxi\n",
    "    b) construire(0, 8) \"je sais pas faire sur gitpod débrouillez vous\"\n",
    "\n",
    "     c ) pareil  \n",
    "     d )  \n",
    "     e )  \n",
    "     f )     \n",
    "      ``` python\n",
    "     def maximum(abr):  \n",
    "        if abr is None:  \n",
    "            return None  \n",
    "        elif abr.droit is None:  \n",
    "            return abr.valeur \n",
    "        else:  \n",
    "            return maximum(abr.droit) \n",
    "        ```  \n",
    "3) a) [6 , 4 ] , [ 6 ] , [6 , 4 , 3]\n",
    "    b) la fonction permet \n",
    "\n"
   ]
  }
 ],
 "metadata": {
  "language_info": {
   "name": "python"
  },
  "orig_nbformat": 4
 },
 "nbformat": 4,
 "nbformat_minor": 2
}
