{
 "cells": [
  {
   "cell_type": "code",
   "execution_count": 1,
   "metadata": {},
   "outputs": [
    {
     "name": "stdout",
     "output_type": "stream",
     "text": [
      "[\n"
     ]
    }
   ],
   "source": [
    "print(chr(45))"
   ]
  },
  {
   "cell_type": "code",
   "execution_count": 3,
   "metadata": {},
   "outputs": [
    {
     "name": "stdout",
     "output_type": "stream",
     "text": [
      "233\n"
     ]
    }
   ],
   "source": [
    "print(ord(\"é\"))"
   ]
  },
  {
   "cell_type": "code",
   "execution_count": 10,
   "metadata": {},
   "outputs": [
    {
     "name": "stdout",
     "output_type": "stream",
     "text": [
      "0b1010\n"
     ]
    }
   ],
   "source": [
    "print(bin(10))"
   ]
  },
  {
   "cell_type": "code",
   "execution_count": 21,
   "metadata": {},
   "outputs": [
    {
     "name": "stdout",
     "output_type": "stream",
     "text": [
      "[233, 232, 224, 226, 239, 231, 249]\n"
     ]
    }
   ],
   "source": [
    "Liste_charactere = [\"é\",\"è\",\"à\",\"â\",\"ï\",\"ç\",\"ù\"]\n",
    "Liste_decimal = []\n",
    "for i in Liste_charactere :\n",
    "    Liste_decimal += [ord(i)]\n",
    "print(Liste_decimal)"
   ]
  },
  {
   "cell_type": "code",
   "execution_count": 14,
   "metadata": {},
   "outputs": [
    {
     "data": {
      "text/plain": [
       "232"
      ]
     },
     "execution_count": 14,
     "metadata": {},
     "output_type": "execute_result"
    }
   ],
   "source": [
    "conversion(\"è\")"
   ]
  },
  {
   "cell_type": "code",
   "execution_count": 1,
   "metadata": {},
   "outputs": [
    {
     "name": "stdout",
     "output_type": "stream",
     "text": [
      "57\n"
     ]
    }
   ],
   "source": [
    "V = {'A': 1 , 'B': 2 , 'C': 3 , 'D': 5 , 'E': 10 , 'F': 15 , 'G': 4 ,\n",
    "'H': 5 , 'I': 5 , 'J': 7}\n",
    "total = 0\n",
    "for i in V :\n",
    "    total += V[i]\n",
    "print(total)"
   ]
  },
  {
   "cell_type": "code",
   "execution_count": 30,
   "metadata": {},
   "outputs": [
    {
     "name": "stdout",
     "output_type": "stream",
     "text": [
      "F\n"
     ]
    }
   ],
   "source": [
    "V = {'A': 1 , 'B': 2 , 'C': 3 , 'D': 5 , 'E': 10 , 'F': 15 , 'G': 4 ,\n",
    "'H': 5 , 'I': 5 , 'J': 7}\n",
    "max = \"\"\n",
    "nb_max = 0\n",
    "for i in V :\n",
    "\n",
    "    if V[i] >  nb_max :\n",
    "        nb_max= V[i]\n",
    "        max = i\n",
    "print(max)\n",
    "\n"
   ]
  },
  {
   "cell_type": "code",
   "execution_count": 2,
   "metadata": {},
   "outputs": [],
   "source": [
    "\n",
    "def maxliste (tab : list) :\n",
    "    assert type(tab) == list  , \"L'argument tab doit être une liste.\"\n",
    "    nb_max = 0\n",
    "    for i in tab :\n",
    "\n",
    "        if i >  nb_max :\n",
    "            nb_max= i\n",
    "    return nb_max"
   ]
  },
  {
   "cell_type": "code",
   "execution_count": 11,
   "metadata": {},
   "outputs": [],
   "source": [
    "def maxliste(tab):\n",
    "    assert type(tab) == list  , \"L'argument tab doit être une liste.\"\n",
    "    maxliste = tab[0]\n",
    "    for i in tab:\n",
    "        if i > maxliste:\n",
    "            maxliste = i\n",
    "    return maxliste"
   ]
  },
  {
   "cell_type": "code",
   "execution_count": 4,
   "metadata": {},
   "outputs": [],
   "source": [
    "class Pile:\n",
    "    \"\"\"\n",
    "    Classe définissant une pile\n",
    "    \"\"\"\n",
    "    def __init__(self):\n",
    "        self.valeurs = []\n",
    "    def est_vide(self):\n",
    "        \"\"\"\n",
    "        Renvoie True si la pile est vide, False sinon\n",
    "        \"\"\"\n",
    "        return self.valeurs == []\n",
    "    def empiler(self, c):\n",
    "        \"\"\"\n",
    "        Place l’élément c au sommet de la pile\n",
    "        \"\"\"\n",
    "        self.valeurs.append(c)\n",
    "    def depiler(self):\n",
    "        \"\"\"\n",
    "        Supprime l’élément placé au sommet de la pile, à\n",
    "        condition\n",
    "        qu’elle soit non vide\n",
    "        \"\"\"\n",
    "        if self.est_vide() == False:\n",
    "          self.valeurs.pop()"
   ]
  },
  {
   "cell_type": "code",
   "execution_count": 33,
   "metadata": {},
   "outputs": [],
   "source": [
    "def parenthesage(ch):\n",
    " \"\"\"\n",
    " Renvoie True si la chaîne ch est bien parenthésée\n",
    " et False sinon\n",
    " \"\"\"\n",
    " p = Pile()\n",
    " for c in ch:\n",
    "    if c == '(':\n",
    "        p.empiler(c)\n",
    "    elif c == ')':\n",
    "        if p.est_vide():\n",
    "            return False\n",
    "        else:\n",
    "            p.depiler()\n",
    " return p.est_vide()"
   ]
  },
  {
   "cell_type": "code",
   "execution_count": 34,
   "metadata": {},
   "outputs": [
    {
     "data": {
      "text/plain": [
       "True"
      ]
     },
     "execution_count": 34,
     "metadata": {},
     "output_type": "execute_result"
    }
   ],
   "source": [
    "parenthesage(\"((()())(()))\")"
   ]
  },
  {
   "cell_type": "code",
   "execution_count": 35,
   "metadata": {},
   "outputs": [
    {
     "data": {
      "text/plain": [
       "False"
      ]
     },
     "execution_count": 35,
     "metadata": {},
     "output_type": "execute_result"
    }
   ],
   "source": [
    "parenthesage(\"())(()\")"
   ]
  },
  {
   "cell_type": "code",
   "execution_count": 21,
   "metadata": {},
   "outputs": [],
   "source": [
    "def convertir(tab : list):\n",
    "    assert type(tab) == list  , \"L'argument tab doit être une liste.\"\n",
    "    nb = 0\n",
    "    tab2 = []\n",
    "    for i in tab :\n",
    "        tab2 = [i] + tab2\n",
    "    for j in range(len(tab2)) :\n",
    "        nb += tab2[j]*(2**j)\n",
    "\n",
    "    return nb"
   ]
  },
  {
   "cell_type": "code",
   "execution_count": 22,
   "metadata": {},
   "outputs": [
    {
     "data": {
      "text/plain": [
       "83"
      ]
     },
     "execution_count": 22,
     "metadata": {},
     "output_type": "execute_result"
    }
   ],
   "source": [
    "convertir([1, 0, 1, 0, 0, 1, 1])"
   ]
  },
  {
   "cell_type": "code",
   "execution_count": 22,
   "metadata": {},
   "outputs": [],
   "source": [
    "def tri_insertion(tab):\n",
    "    n = len(tab)\n",
    "    for i in range(1, n):\n",
    "        valeur_insertion = tab[i]\n",
    "        # la variable j est utilisée pour déterminer où placer la valeur à insérer\n",
    "        \n",
    "        j = i\n",
    "        # tant qu'on a pas trouvé la place de l'élément à insérer\n",
    "        # on décale les valeurs du tableau vers la droite\n",
    "        while j > 0 and valeur_insertion < tab[j-1]:\n",
    "            tab[j] = tab[j-1]\n",
    "            j = j - 1\n",
    "        tab[j] = valeur_insertion\n",
    "    return tab"
   ]
  },
  {
   "cell_type": "code",
   "execution_count": 23,
   "metadata": {},
   "outputs": [
    {
     "data": {
      "text/plain": [
       "[0, 1, 2, 3, 4, 5, 6, 7, 8, 9, 10]"
      ]
     },
     "execution_count": 23,
     "metadata": {},
     "output_type": "execute_result"
    }
   ],
   "source": [
    "liste = [9, 5, 8, 4, 0, 2, 7, 1, 10, 3, 6]\n",
    "tri_insertion(liste)"
   ]
  },
  {
   "cell_type": "code",
   "execution_count": null,
   "metadata": {},
   "outputs": [],
   "source": [
    "def ajouter(cle,a):\n",
    "    if a is None :\n",
    "        self.cle = cle\n",
    "    else :\n",
    "        if self.cle < cle :\n",
    "            ajouter(cle,a.droit)\n",
    "        else :\n",
    "            ajouter(cle,a.gauche)"
   ]
  },
  {
   "cell_type": "code",
   "execution_count": 32,
   "metadata": {},
   "outputs": [],
   "source": [
    "def moyenne(liste_notes : list) :\n",
    "    assert type(liste_notes) == list  , \"L'argument tab doit être une liste.\"\n",
    "    numerateur = 0\n",
    "    denominateur = 0\n",
    "    try :\n",
    "        for i in range(len(liste_notes)):\n",
    "            if liste_notes[i][0] < 0.0 or liste_notes[i][0] >= 20.0 or liste_notes[i][1] <= 0 :\n",
    "                raise ValueError\n",
    "\n",
    "            numerateur += liste_notes[i][0] * liste_notes[i][1]\n",
    "            denominateur += liste_notes[i][1]\n",
    "        return numerateur/denominateur\n",
    "    except ValueError :\n",
    "        print(\"les valeurs de la liste ne sont pas correctes\")"
   ]
  },
  {
   "cell_type": "code",
   "execution_count": 47,
   "metadata": {},
   "outputs": [],
   "source": [
    "def pascal(n):\n",
    "    triangle= [[1]]\n",
    "    for k in range(1,n+1):\n",
    "        ligne_k = [1]\n",
    "        for i in range(1, k):\n",
    "            ligne_k.append(triangle[k-1][i-1] + triangle[k-1][i])\n",
    "        ligne_k.append(1)\n",
    "        triangle.append(ligne_k)\n",
    "    return triangle"
   ]
  },
  {
   "cell_type": "code",
   "execution_count": 49,
   "metadata": {},
   "outputs": [
    {
     "data": {
      "text/plain": [
       "[[1], [1, 1], [1, 2, 1], [1, 3, 3, 1], [1, 4, 6, 4, 1], [1, 5, 10, 10, 5, 1]]"
      ]
     },
     "execution_count": 49,
     "metadata": {},
     "output_type": "execute_result"
    }
   ],
   "source": [
    "pascal(5)"
   ]
  },
  {
   "cell_type": "code",
   "execution_count": 34,
   "metadata": {},
   "outputs": [
    {
     "data": {
      "text/plain": [
       "7.5"
      ]
     },
     "execution_count": 34,
     "metadata": {},
     "output_type": "execute_result"
    }
   ],
   "source": [
    "liste = [(0, 2), (9, 1), (12, 3)]\n",
    "moyenne(liste)"
   ]
  },
  {
   "cell_type": "code",
   "execution_count": 56,
   "metadata": {},
   "outputs": [],
   "source": [
    "def recherche_indices_classement (elt : int , tab : list) :\n",
    "\n",
    "    assert type(int) == list  , \"L'argument tab doit être une liste.\"\n",
    "    assert type(tab) == list  , \"L'argument tab doit être une liste.\"\n",
    "\n",
    "    tab_inf = [] #liste_indice inférieur a elt\n",
    "    tab_equ = [] #liste_indice egal a elt\n",
    "    tab_sup = [] #liste_indice supérieur a elt\n",
    "\n",
    "    for i in range(len(tab)):\n",
    "\n",
    "        if tab[i] < elt :\n",
    "\n",
    "            tab_inf.append(i)\n",
    "        \n",
    "        elif tab[i] == elt :\n",
    "\n",
    "            tab_equ.append(i)\n",
    "        \n",
    "        else :\n",
    "\n",
    "            tab_sup.append(i)\n",
    "    \n",
    "    return tab_inf , tab_equ , tab_sup"
   ]
  },
  {
   "cell_type": "code",
   "execution_count": 64,
   "metadata": {},
   "outputs": [],
   "source": [
    "def moyenne(nom, dico_result):\n",
    "    if nom in dico_result:\n",
    "        notes = dico_result[nom]\n",
    "        total_points = 0\n",
    "        total_coefficients = 0\n",
    "        for valeurs in notes.values():\n",
    "            note, coefficient = valeurs\n",
    "            total_points = total_points + note * coefficient\n",
    "            total_coefficients = total_coefficients + coefficient\n",
    "        return round( total_points / total_coefficients, 1 )\n",
    "    else:\n",
    "        return -1"
   ]
  },
  {
   "cell_type": "code",
   "execution_count": 65,
   "metadata": {},
   "outputs": [
    {
     "data": {
      "text/plain": [
       "14.5"
      ]
     },
     "execution_count": 65,
     "metadata": {},
     "output_type": "execute_result"
    }
   ],
   "source": [
    "resultats = {'Dupont': {\n",
    "        'DS1': [15.5, 4],\n",
    "        'DM1': [14.5, 1],\n",
    "        'DS2': [13, 4],\n",
    "        'PROJET1': [16, 3],\n",
    "        'DS3': [14, 4]\n",
    "    },\n",
    "    'Durand': {\n",
    "        'DS1': [6 , 4],\n",
    "        'DM1': [14.5, 1],\n",
    "        'DS2': [8, 4],\n",
    "        'PROJET1': [9, 3],\n",
    "        'IE1': [7, 2],\n",
    "        'DS3': [8, 4],\n",
    "        'DS4':[15, 4]\n",
    "        }\n",
    "    }\n",
    "moyenne('Dupont',resultats)"
   ]
  },
  {
   "cell_type": "code",
   "execution_count": null,
   "metadata": {},
   "outputs": [],
   "source": [
    "t_moy = [14.9, 13.3, 13.1, 12.5, 13.0, 13.6, 13.7]\n",
    "annees = [2013, 2014, 2015, 2016, 2017, 2018, 2019]"
   ]
  },
  {
   "cell_type": "code",
   "execution_count": 5,
   "metadata": {},
   "outputs": [],
   "source": [
    "def mini(releve : list , date : list):\n",
    "    indice_min = 0\n",
    "    min = releve[0]\n",
    "    for i in range (len(releve)) :\n",
    "\n",
    "        if releve[i] < min :\n",
    "            min = releve[i]\n",
    "            indice_min = i\n",
    "    return releve[indice_min] , date[indice_min]\n"
   ]
  },
  {
   "cell_type": "code",
   "execution_count": 26,
   "metadata": {},
   "outputs": [],
   "source": [
    "def inverse_chaine(chaine):\n",
    "    result = ''\n",
    "    for caractere in chaine:\n",
    "        result = caractere + result\n",
    "    return result\n",
    "def est_palindrome(chaine):\n",
    "    inverse = inverse_chaine(chaine)\n",
    "    return chaine == inverse\n",
    "\n",
    "def est_nbre_palindrome(nbre):\n",
    "    chaine = str(nbre)\n",
    "    return est_palindrome(chaine)"
   ]
  },
  {
   "cell_type": "code",
   "execution_count": 30,
   "metadata": {},
   "outputs": [
    {
     "data": {
      "text/plain": [
       "True"
      ]
     },
     "execution_count": 30,
     "metadata": {},
     "output_type": "execute_result"
    }
   ],
   "source": [
    "est_nbre_palindrome(213312)\n"
   ]
  },
  {
   "cell_type": "code",
   "execution_count": 37,
   "metadata": {},
   "outputs": [],
   "source": [
    "def recherche(elt : int , tab : list):\n",
    "    list_indice = []\n",
    "    if elt in tab :\n",
    "        for i in range (len(tab)) :\n",
    "            if tab[i] == elt :\n",
    "                list_indice.append(i)\n",
    "        return list_indice[0]\n",
    "    else :\n",
    "        return -1"
   ]
  },
  {
   "cell_type": "code",
   "execution_count": null,
   "metadata": {},
   "outputs": [],
   "source": [
    "def recherche(elt : int , tab : list):\n",
    "    for i in range (len(tab)) :\n",
    "        if elt == tab[i] :\n",
    "            return i\n",
    "    return -1"
   ]
  },
  {
   "cell_type": "code",
   "execution_count": 17,
   "metadata": {},
   "outputs": [],
   "source": [
    "def truc() :\n",
    "    for i in range (5) :\n",
    "        return i"
   ]
  },
  {
   "cell_type": "code",
   "execution_count": 18,
   "metadata": {},
   "outputs": [
    {
     "data": {
      "text/plain": [
       "0"
      ]
     },
     "execution_count": 18,
     "metadata": {},
     "output_type": "execute_result"
    }
   ],
   "source": [
    "truc()"
   ]
  },
  {
   "cell_type": "code",
   "execution_count": 14,
   "metadata": {},
   "outputs": [
    {
     "data": {
      "text/plain": [
       "1"
      ]
     },
     "execution_count": 14,
     "metadata": {},
     "output_type": "execute_result"
    }
   ],
   "source": [
    "recherche(4, [2, 4, 4, 3, 4])\n"
   ]
  },
  {
   "cell_type": "code",
   "execution_count": 9,
   "metadata": {},
   "outputs": [],
   "source": [
    "def insere(a, tab ):\n",
    "    \"\"\" Insère l'élément a (int) dans le tableau tab (list)\n",
    "        trié par ordre croissant à sa place et renvoie le\n",
    "        nouveau tableau. \"\"\"\n",
    "    l = list(tab) #l contient les mêmes éléments que tab\n",
    "    l.append(a)\n",
    "    i = len(l) -2\n",
    "    while a < l[i] and i >= 0:\n",
    "        l[i+1] = l[i]\n",
    "        l[i] = a\n",
    "        i = i - 1\n",
    "    return l\n"
   ]
  },
  {
   "cell_type": "code",
   "execution_count": 11,
   "metadata": {},
   "outputs": [
    {
     "data": {
      "text/plain": [
       "[1, 2, 4, 5, 3]"
      ]
     },
     "execution_count": 11,
     "metadata": {},
     "output_type": "execute_result"
    }
   ],
   "source": [
    "insere(3, [1, 2, 4, 5])"
   ]
  },
  {
   "cell_type": "code",
   "execution_count": 83,
   "metadata": {},
   "outputs": [
    {
     "data": {
      "text/plain": [
       "[1, 2, 7, 12, 14, 25, 30]"
      ]
     },
     "execution_count": 83,
     "metadata": {},
     "output_type": "execute_result"
    }
   ],
   "source": [
    "\n",
    "insere(30, [1, 2, 7, 12, 14, 25])"
   ]
  },
  {
   "cell_type": "code",
   "execution_count": 84,
   "metadata": {},
   "outputs": [
    {
     "data": {
      "text/plain": [
       "[2, 3, 4, 1]"
      ]
     },
     "execution_count": 84,
     "metadata": {},
     "output_type": "execute_result"
    }
   ],
   "source": [
    "insere(1, [2, 3, 4])\n"
   ]
  },
  {
   "cell_type": "code",
   "execution_count": null,
   "metadata": {},
   "outputs": [],
   "source": [
    "def empaqueter(liste_masses, c):\n",
    "n = len(liste_masses)\n",
    "nb_boites = 0\n",
    "boites = [0]*n\n",
    "for masse in ... :\n",
    "i = 0\n",
    "while i <= nb_boites and boites[i] + ... > C:\n",
    "i = i + 1\n",
    "if i == nb_boites + 1:\n",
    "...\n",
    "boites[i] = ...\n",
    "return .."
   ]
  }
 ],
 "metadata": {
  "kernelspec": {
   "display_name": "Python 3",
   "language": "python",
   "name": "python3"
  },
  "language_info": {
   "codemirror_mode": {
    "name": "ipython",
    "version": 3
   },
   "file_extension": ".py",
   "mimetype": "text/x-python",
   "name": "python",
   "nbconvert_exporter": "python",
   "pygments_lexer": "ipython3",
   "version": "3.8.16"
  },
  "orig_nbformat": 4,
  "vscode": {
   "interpreter": {
    "hash": "9ac03a0a6051494cc606d484d27d20fce22fb7b4d169f583271e11d5ba46a56e"
   }
  }
 },
 "nbformat": 4,
 "nbformat_minor": 2
}
