{
 "cells": [
  {
   "cell_type": "code",
   "execution_count": 5,
   "metadata": {},
   "outputs": [
    {
     "name": "stdout",
     "output_type": "stream",
     "text": [
      "-\n"
     ]
    }
   ],
   "source": [
    "print(chr(45))"
   ]
  },
  {
   "cell_type": "code",
   "execution_count": 8,
   "metadata": {},
   "outputs": [
    {
     "name": "stdout",
     "output_type": "stream",
     "text": [
      "233\n"
     ]
    }
   ],
   "source": [
    "print(ord(\"é\"))"
   ]
  },
  {
   "cell_type": "code",
   "execution_count": 10,
   "metadata": {},
   "outputs": [
    {
     "name": "stdout",
     "output_type": "stream",
     "text": [
      "0b1010\n"
     ]
    }
   ],
   "source": [
    "print(bin(10))"
   ]
  },
  {
   "cell_type": "code",
   "execution_count": 21,
   "metadata": {},
   "outputs": [
    {
     "name": "stdout",
     "output_type": "stream",
     "text": [
      "[233, 232, 224, 226, 239, 231, 249]\n"
     ]
    }
   ],
   "source": [
    "Liste_charactere = [\"é\",\"è\",\"à\",\"â\",\"ï\",\"ç\",\"ù\"]\n",
    "Liste_decimal = []\n",
    "for i in Liste_charactere :\n",
    "    Liste_decimal += [ord(i)]\n",
    "print(Liste_decimal)"
   ]
  },
  {
   "cell_type": "code",
   "execution_count": 14,
   "metadata": {},
   "outputs": [
    {
     "data": {
      "text/plain": [
       "232"
      ]
     },
     "execution_count": 14,
     "metadata": {},
     "output_type": "execute_result"
    }
   ],
   "source": [
    "conversion(\"è\")"
   ]
  },
  {
   "cell_type": "code",
   "execution_count": 1,
   "metadata": {},
   "outputs": [
    {
     "name": "stdout",
     "output_type": "stream",
     "text": [
      "57\n"
     ]
    }
   ],
   "source": [
    "V = {'A': 1 , 'B': 2 , 'C': 3 , 'D': 5 , 'E': 10 , 'F': 15 , 'G': 4 ,\n",
    "'H': 5 , 'I': 5 , 'J': 7}\n",
    "total = 0\n",
    "for i in V :\n",
    "    total += V[i]\n",
    "print(total)"
   ]
  },
  {
   "cell_type": "code",
   "execution_count": 30,
   "metadata": {},
   "outputs": [
    {
     "name": "stdout",
     "output_type": "stream",
     "text": [
      "F\n"
     ]
    }
   ],
   "source": [
    "V = {'A': 1 , 'B': 2 , 'C': 3 , 'D': 5 , 'E': 10 , 'F': 15 , 'G': 4 ,\n",
    "'H': 5 , 'I': 5 , 'J': 7}\n",
    "max = \"\"\n",
    "nb_max = 0\n",
    "for i in V :\n",
    "\n",
    "    if V[i] >  nb_max :\n",
    "        nb_max= V[i]\n",
    "        max = i\n",
    "print(max)\n",
    "\n"
   ]
  },
  {
   "cell_type": "code",
   "execution_count": 2,
   "metadata": {},
   "outputs": [],
   "source": [
    "\n",
    "def maxliste (tab : list) :\n",
    "    assert type(tab) == list  , \"L'argument tab doit être une liste.\"\n",
    "    nb_max = 0\n",
    "    for i in tab :\n",
    "\n",
    "        if i >  nb_max :\n",
    "            nb_max= i\n",
    "    return nb_max"
   ]
  },
  {
   "cell_type": "code",
   "execution_count": 11,
   "metadata": {},
   "outputs": [],
   "source": [
    "def maxliste(tab):\n",
    "    assert type(tab) == list  , \"L'argument tab doit être une liste.\"\n",
    "    maxliste = tab[0]\n",
    "    for i in tab:\n",
    "        if i > maxliste:\n",
    "            maxliste = i\n",
    "    return maxliste"
   ]
  },
  {
   "cell_type": "code",
   "execution_count": 4,
   "metadata": {},
   "outputs": [],
   "source": [
    "class Pile:\n",
    "    \"\"\"\n",
    "    Classe définissant une pile\n",
    "    \"\"\"\n",
    "    def __init__(self):\n",
    "        self.valeurs = []\n",
    "    def est_vide(self):\n",
    "        \"\"\"\n",
    "        Renvoie True si la pile est vide, False sinon\n",
    "        \"\"\"\n",
    "        return self.valeurs == []\n",
    "    def empiler(self, c):\n",
    "        \"\"\"\n",
    "        Place l’élément c au sommet de la pile\n",
    "        \"\"\"\n",
    "        self.valeurs.append(c)\n",
    "    def depiler(self):\n",
    "        \"\"\"\n",
    "        Supprime l’élément placé au sommet de la pile, à\n",
    "        condition\n",
    "        qu’elle soit non vide\n",
    "        \"\"\"\n",
    "        if self.est_vide() == False:\n",
    "          self.valeurs.pop()"
   ]
  },
  {
   "cell_type": "code",
   "execution_count": 33,
   "metadata": {},
   "outputs": [],
   "source": [
    "def parenthesage(ch):\n",
    " \"\"\"\n",
    " Renvoie True si la chaîne ch est bien parenthésée\n",
    " et False sinon\n",
    " \"\"\"\n",
    " p = Pile()\n",
    " for c in ch:\n",
    "    if c == '(':\n",
    "        p.empiler(c)\n",
    "    elif c == ')':\n",
    "        if p.est_vide():\n",
    "            return False\n",
    "        else:\n",
    "            p.depiler()\n",
    " return p.est_vide()"
   ]
  },
  {
   "cell_type": "code",
   "execution_count": 34,
   "metadata": {},
   "outputs": [
    {
     "data": {
      "text/plain": [
       "True"
      ]
     },
     "execution_count": 34,
     "metadata": {},
     "output_type": "execute_result"
    }
   ],
   "source": [
    "parenthesage(\"((()())(()))\")"
   ]
  },
  {
   "cell_type": "code",
   "execution_count": 35,
   "metadata": {},
   "outputs": [
    {
     "data": {
      "text/plain": [
       "False"
      ]
     },
     "execution_count": 35,
     "metadata": {},
     "output_type": "execute_result"
    }
   ],
   "source": [
    "parenthesage(\"())(()\")"
   ]
  },
  {
   "cell_type": "code",
   "execution_count": 21,
   "metadata": {},
   "outputs": [],
   "source": [
    "def convertir(tab : list):\n",
    "    assert type(tab) == list  , \"L'argument tab doit être une liste.\"\n",
    "    nb = 0\n",
    "    tab2 = []\n",
    "    for i in tab :\n",
    "        tab2 = [i] + tab2\n",
    "    for j in range(len(tab2)) :\n",
    "        nb += tab2[j]*(2**j)\n",
    "\n",
    "    return nb"
   ]
  },
  {
   "cell_type": "code",
   "execution_count": 22,
   "metadata": {},
   "outputs": [
    {
     "data": {
      "text/plain": [
       "83"
      ]
     },
     "execution_count": 22,
     "metadata": {},
     "output_type": "execute_result"
    }
   ],
   "source": [
    "convertir([1, 0, 1, 0, 0, 1, 1])"
   ]
  },
  {
   "cell_type": "code",
   "execution_count": 22,
   "metadata": {},
   "outputs": [],
   "source": [
    "def tri_insertion(tab):\n",
    "    n = len(tab)\n",
    "    for i in range(1, n):\n",
    "        valeur_insertion = tab[i]\n",
    "        # la variable j est utilisée pour déterminer où placer la valeur à insérer\n",
    "        \n",
    "        j = i\n",
    "        # tant qu'on a pas trouvé la place de l'élément à insérer\n",
    "        # on décale les valeurs du tableau vers la droite\n",
    "        while j > 0 and valeur_insertion < tab[j-1]:\n",
    "            tab[j] = tab[j-1]\n",
    "            j = j - 1\n",
    "        tab[j] = valeur_insertion\n",
    "    return tab"
   ]
  },
  {
   "cell_type": "code",
   "execution_count": 23,
   "metadata": {},
   "outputs": [
    {
     "data": {
      "text/plain": [
       "[0, 1, 2, 3, 4, 5, 6, 7, 8, 9, 10]"
      ]
     },
     "execution_count": 23,
     "metadata": {},
     "output_type": "execute_result"
    }
   ],
   "source": [
    "liste = [9, 5, 8, 4, 0, 2, 7, 1, 10, 3, 6]\n",
    "tri_insertion(liste)"
   ]
  },
  {
   "cell_type": "code",
   "execution_count": null,
   "metadata": {},
   "outputs": [],
   "source": [
    "def ajouter(cle,a):\n",
    "    if a is None :\n",
    "        self.cle = cle\n",
    "    else :\n",
    "        if self.cle < cle :\n",
    "            ajouter(cle,a.droit)\n",
    "        else :\n",
    "            ajouter(cle,a.gauche)"
   ]
  }
 ],
 "metadata": {
  "kernelspec": {
   "display_name": "Python 3",
   "language": "python",
   "name": "python3"
  },
  "language_info": {
   "codemirror_mode": {
    "name": "ipython",
    "version": 3
   },
   "file_extension": ".py",
   "mimetype": "text/x-python",
   "name": "python",
   "nbconvert_exporter": "python",
   "pygments_lexer": "ipython3",
   "version": "3.8.13"
  },
  "orig_nbformat": 4,
  "vscode": {
   "interpreter": {
    "hash": "9ac03a0a6051494cc606d484d27d20fce22fb7b4d169f583271e11d5ba46a56e"
   }
  }
 },
 "nbformat": 4,
 "nbformat_minor": 2
}
