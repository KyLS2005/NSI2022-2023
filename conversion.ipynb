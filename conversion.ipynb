{
 "cells": [
  {
   "attachments": {},
   "cell_type": "markdown",
   "metadata": {},
   "source": [
    "## Conversion Utilisant le Récursif ainsi que les dictionnaires\n",
    "Traduction de chiffres romains en chiffres arabes"
   ]
  },
  {
   "cell_type": "code",
   "execution_count": 2,
   "metadata": {},
   "outputs": [],
   "source": [
    "romains = {\"I\":1, \"V\":5, \"X\":10, \"L\":50, \"C\":100, \"D\":500, \"M\":1000}\n",
    "\n",
    "def traduire_romain(nombre) :\n",
    "    \"\"\" Renvoie l'ecriture decimale du nombre donné en chiffres romains \"\"\"\n",
    "\n",
    "    if len(nombre) == 1:\n",
    "        return romains[nombre[0]]\n",
    "\n",
    "    elif romains[nombre[0]] >= romains[nombre[1]] :\n",
    "        return romains[nombre[0]] + traduire_romain(nombre[1:])\n",
    "        \n",
    "    else:\n",
    "        return traduire_romain(nombre[1:]) - romains[nombre[0]]"
   ]
  },
  {
   "cell_type": "code",
   "execution_count": 4,
   "metadata": {},
   "outputs": [
    {
     "data": {
      "text/plain": [
       "14"
      ]
     },
     "execution_count": 4,
     "metadata": {},
     "output_type": "execute_result"
    }
   ],
   "source": [
    "traduire_romain(\"XIV\")"
   ]
  },
  {
   "attachments": {},
   "cell_type": "markdown",
   "metadata": {},
   "source": [
    "### Conversion utilisant le modulo\n",
    "Codage César"
   ]
  },
  {
   "cell_type": "code",
   "execution_count": 5,
   "metadata": {},
   "outputs": [],
   "source": [
    "ALPHABET = 'ABCDEFGHIJKLMNOPQRSTUVWXYZ'\n",
    "\n",
    "def position_alphabet(lettre):\n",
    "\n",
    " return ord(lettre) - ord('A')\n",
    "\n",
    "def cesar(message, decalage):\n",
    "    resultat = ''\n",
    "    for c in message:\n",
    "        if 'A' <= c and c <= 'Z':\n",
    "            indice = (position_alphabet(c) + decalage ) % 26\n",
    "            resultat = resultat + ALPHABET[indice]\n",
    "        else:\n",
    "            resultat = resultat + c\n",
    "    return resultat"
   ]
  },
  {
   "cell_type": "code",
   "execution_count": 7,
   "metadata": {},
   "outputs": [
    {
     "data": {
      "text/plain": [
       "'JCJRUQJ'"
      ]
     },
     "execution_count": 7,
     "metadata": {},
     "output_type": "execute_result"
    }
   ],
   "source": [
    "cesar('EXEMPLE', 5 )"
   ]
  },
  {
   "attachments": {},
   "cell_type": "markdown",
   "metadata": {},
   "source": [
    "### Conversion avec l'utilisation de dictionnaire\n",
    "Vérification si le mot est parfait"
   ]
  },
  {
   "cell_type": "code",
   "execution_count": 1,
   "metadata": {},
   "outputs": [],
   "source": [
    "dico = {\"A\": 1, \"B\": 2, \"C\": 3, \"D\": 4, \"E\": 5, \"F\": 6,\n",
    " \"G\": 7, \"H\": 8, \"I\": 9, \"J\": 10, \"K\": 11, \"L\": 12,\n",
    " \"M\": 13, \"N\": 14, \"O\": 15, \"P\": 16, \"Q\": 17,\n",
    " \"R\": 18, \"S\": 19, \"T\": 20, \"U\": 21, \"V\": 22,\n",
    " \"W\": 23, \"X\": 24, \"Y\": 25, \"Z\": 26}\n",
    "def est_parfait(mot) :\n",
    " # mot est une chaîne de caractères (en lettres majuscules)\n",
    "    code_concatene = \" \"\n",
    "    code_additionne = 0\n",
    "    for c in mot:\n",
    "        code_concatene = code_concatene + str(dico[c])\n",
    "        code_additionne = code_additionne + dico[c]\n",
    "    code_concatene = int(code_concatene)\n",
    "    if code_concatene % code_additionne == 0 :\n",
    "        mot_est_parfait = True\n",
    "    else : \n",
    "        mot_est_parfait = False\n",
    "    return code_additionne, code_concatene, mot_est_parfait"
   ]
  },
  {
   "cell_type": "code",
   "execution_count": 2,
   "metadata": {},
   "outputs": [
    {
     "data": {
      "text/plain": [
       "(100, 172151420914, False)"
      ]
     },
     "execution_count": 2,
     "metadata": {},
     "output_type": "execute_result"
    }
   ],
   "source": [
    "est_parfait('QUENTIN')"
   ]
  },
  {
   "attachments": {},
   "cell_type": "markdown",
   "metadata": {},
   "source": [
    "### Conversion d'un entier en binaire"
   ]
  },
  {
   "cell_type": "code",
   "execution_count": 9,
   "metadata": {},
   "outputs": [],
   "source": [
    "def ecriture_binaire_entier_positif(n:int)->list:\n",
    "    '''\n",
    "    • Définition :\n",
    "    - Donne l'écriture binaire d'un entier positif\n",
    "    • Précondition :\n",
    "    - n : un entier positif\n",
    "    • Postcondition :\n",
    "    - Une liste correspondant à l'écriture binaire de n\n",
    "    • Exemple :\n",
    "    - ecriture_binaire_entier_positif(105)\n",
    "    > [1, 1, 0, 1, 0, 0, 1]\n",
    "    '''\n",
    "\n",
    "    assert n == int(n) and n >= 0, \"n doit être une nombre entier positif\"\n",
    "\n",
    "    binaire = []\n",
    "    while n//2 != 0:\n",
    "        binaire.append(n%2)\n",
    "        n //= 2\n",
    "    binaire.append(n%2)\n",
    "    binaire.reverse()\n",
    "    return binaire"
   ]
  },
  {
   "cell_type": "code",
   "execution_count": 10,
   "metadata": {},
   "outputs": [
    {
     "data": {
      "text/plain": [
       "[1, 0, 1, 0, 0]"
      ]
     },
     "execution_count": 10,
     "metadata": {},
     "output_type": "execute_result"
    }
   ],
   "source": [
    "ecriture_binaire_entier_positif(20)"
   ]
  },
  {
   "attachments": {},
   "cell_type": "markdown",
   "metadata": {},
   "source": [
    "### Conversion d'un réciproque décimale et binaire"
   ]
  },
  {
   "cell_type": "code",
   "execution_count": 11,
   "metadata": {},
   "outputs": [],
   "source": [
    "def dec_to_bin (nb_dec):\n",
    "    q, r = nb_dec // 2, nb_dec % 2\n",
    "    if q == 0:\n",
    "        return str(r)\n",
    "    else:\n",
    "        return dec_to_bin(q) + str(r)\n",
    "\n",
    "def bin_to_dec(nb_bin):\n",
    "    if nb_bin == '0':\n",
    "        return 0\n",
    "    elif nb_bin == '1':\n",
    "        return 1\n",
    "    else:\n",
    "        if nb_bin[-1] == '0':\n",
    "            bit_droit = 0\n",
    "        else:\n",
    "            bit_droit = 1\n",
    "        return 2 * bin_to_dec(nb_bin[:-1]) + bit_droit"
   ]
  },
  {
   "cell_type": "code",
   "execution_count": 15,
   "metadata": {},
   "outputs": [
    {
     "data": {
      "text/plain": [
       "'110'"
      ]
     },
     "execution_count": 15,
     "metadata": {},
     "output_type": "execute_result"
    }
   ],
   "source": [
    "dec_to_bin (6)"
   ]
  },
  {
   "cell_type": "code",
   "execution_count": 17,
   "metadata": {},
   "outputs": [
    {
     "data": {
      "text/plain": [
       "22"
      ]
     },
     "execution_count": 17,
     "metadata": {},
     "output_type": "execute_result"
    }
   ],
   "source": [
    "bin_to_dec ('10110')"
   ]
  }
 ],
 "metadata": {
  "kernelspec": {
   "display_name": "Python 3",
   "language": "python",
   "name": "python3"
  },
  "language_info": {
   "codemirror_mode": {
    "name": "ipython",
    "version": 3
   },
   "file_extension": ".py",
   "mimetype": "text/x-python",
   "name": "python",
   "nbconvert_exporter": "python",
   "pygments_lexer": "ipython3",
   "version": "3.8.16"
  },
  "orig_nbformat": 4
 },
 "nbformat": 4,
 "nbformat_minor": 2
}
