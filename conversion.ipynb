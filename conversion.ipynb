{
 "cells": [
  {
   "cell_type": "code",
   "execution_count": null,
   "metadata": {},
   "outputs": [],
   "source": [
    "romains = {\"I\":1, \"V\":5, \"X\":10, \"L\":50, \"C\":100, \"D\":500, \"M\":1000}\n",
    "\n",
    "def traduire_romain(nombre) :\n",
    "    \"\"\" Renvoie l'ecriture decimale du nombre donnÃ© en chiffres romains \"\"\"\n",
    "\n",
    "    if len(nombre) == 1:\n",
    "        return romains[nombre[0]]\n",
    "\n",
    "    elif romains[nombre[0]] >= romains[nombre[1]] :\n",
    "        return romains[nombre[0]] + traduire_romain(nombre[1:])\n",
    "        \n",
    "    else:\n",
    "        return traduire_romain(nombre[1:]) - romains[nombre[0]]"
   ]
  }
 ],
 "metadata": {
  "language_info": {
   "name": "python"
  },
  "orig_nbformat": 4
 },
 "nbformat": 4,
 "nbformat_minor": 2
}
