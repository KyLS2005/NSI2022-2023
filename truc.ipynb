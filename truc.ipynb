{
 "cells": [
  {
   "attachments": {},
   "cell_type": "markdown",
   "metadata": {},
   "source": [
    "## Morpion lvl 0  \n",
    "connais juste les règles"
   ]
  },
  {
   "cell_type": "code",
   "execution_count": null,
   "metadata": {},
   "outputs": [],
   "source": [
    "def victoire_en_ligne(plateau):\n",
    "    for i in range (len(plateau)):\n",
    "       win = False\n",
    "       if plateau[i].count(plateau[0][i]) == len(plateau[i]):\n",
    "        if plateau[0][i] != ' ' :\n",
    "            win = True\n",
    "            break\n",
    "\n",
    "def victoire_en_colonne(plateau):\n",
    "    for i in range(len(plateau[0])):\n",
    "\n",
    "        col = [ele[i] for ele in plateau]\n",
    "        win = False\n",
    "        if all(x == col[0] for x in col):\n",
    "            if col[0] != ' ' :\n",
    "                win = True\n",
    "                break\n",
    "def victoire_en_diagonale(plateau):\n",
    "    diag1 = []\n",
    "    diag2 = []\n",
    "    for i in range (len(plateau[0])):\n",
    "        diag1 = [x.appen('a') for x in a]\n",
    "        diag2 = []"
   ]
  },
  {
   "cell_type": "code",
   "execution_count": null,
   "metadata": {},
   "outputs": [],
   "source": []
  }
 ],
 "metadata": {
  "kernelspec": {
   "display_name": "Python 3",
   "language": "python",
   "name": "python3"
  },
  "language_info": {
   "codemirror_mode": {
    "name": "ipython",
    "version": 3
   },
   "file_extension": ".py",
   "mimetype": "text/x-python",
   "name": "python",
   "nbconvert_exporter": "python",
   "pygments_lexer": "ipython3",
   "version": "3.10.4"
  },
  "orig_nbformat": 4
 },
 "nbformat": 4,
 "nbformat_minor": 2
}
