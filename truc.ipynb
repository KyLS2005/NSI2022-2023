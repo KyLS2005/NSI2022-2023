{
 "cells": [
  {
   "attachments": {},
   "cell_type": "markdown",
   "metadata": {},
   "source": [
    "## Morpion lvl 0  \n",
    "connais juste les règles"
   ]
  },
  {
   "cell_type": "code",
   "execution_count": 82,
   "metadata": {},
   "outputs": [],
   "source": [
    "#Mine\n",
    "\n",
    "\n",
    "def victoire_en_ligne(plateau):\n",
    "    for i in range (len(plateau)):\n",
    "       win = False\n",
    "       if plateau[i].count(plateau[i][0]) == len(plateau[i]):\n",
    "            if plateau[i][0] != ' ' :\n",
    "                win = True\n",
    "                break\n",
    "    return win\n",
    "\n",
    "def victoire_en_colonne(plateau):\n",
    "    for i in range(len(plateau[0])):\n",
    "        #liste des colonnes\n",
    "        col = [ele[i] for ele in plateau]\n",
    "        win = False\n",
    "\n",
    "        if all(x == col[0] for x in col):\n",
    "            if col[0] != ' ' :\n",
    "                win = True\n",
    "                break\n",
    "    return win\n",
    "\n",
    "\n",
    "def victoire_en_diagonale(plateau):\n",
    "    #liste des diagonales\n",
    "    diag1 = [plateau[l][l] for l in range (len(plateau[0]))]\n",
    "    diag2 = [plateau[k][len(plateau[0])-k-1] for k in range (len(plateau[0]))]\n",
    "    for i in range(len(plateau[0])):\n",
    "        win = False\n",
    "\n",
    "        if all(x == diag1[0] for x in diag1):\n",
    "            if diag1[0] != ' ' :\n",
    "                win = True\n",
    "                break\n",
    "        if all(x == diag2[0] for x in diag2):\n",
    "            if diag2[0] != ' ' :\n",
    "                win = True\n",
    "                break\n",
    "    return win"
   ]
  },
  {
   "cell_type": "code",
   "execution_count": null,
   "metadata": {},
   "outputs": [],
   "source": [
    "#Futurcoder's\n",
    "def ligne_gagnante(chaines):\n",
    "    marque = chaines[0]\n",
    "    if marque == ' ':\n",
    "        return False\n",
    "    for valeur in chaines:\n",
    "        if marque != valeur:\n",
    "            return False\n",
    "    return True\n",
    "\n",
    "def victoire_en_ligne(plateau):\n",
    "    for ligne in plateau:\n",
    "        if ligne_gagnante(ligne):\n",
    "            return True\n",
    "    return False\n",
    "\n",
    "def victoire_en_colonne(plateau):\n",
    "    for i_colonne in range(len(plateau[0])):\n",
    "        colonne = []\n",
    "        for ligne in plateau:\n",
    "            colonne.append(ligne[i_colonne])\n",
    "        if ligne_gagnante(colonne):\n",
    "            return True\n",
    "    return False\n",
    "\n",
    "def victoire_en_diagonale(plateau):\n",
    "    diagonale_1 = []\n",
    "    diagonale_2 = []\n",
    "    for i in range(len(plateau)):\n",
    "        diagonale_1.append(plateau[i][i])\n",
    "        diagonale_2.append(plateau[i][-i-1])\n",
    "    return ligne_gagnante(diagonale_1) or ligne_gagnante(diagonale_2)"
   ]
  },
  {
   "cell_type": "code",
   "execution_count": 83,
   "metadata": {},
   "outputs": [
    {
     "data": {
      "text/plain": [
       "True"
      ]
     },
     "execution_count": 83,
     "metadata": {},
     "output_type": "execute_result"
    }
   ],
   "source": [
    "def victoire(plateau):\n",
    "    if victoire_en_ligne(plateau)  :\n",
    "        return True\n",
    "    elif victoire_en_colonne(plateau) :\n",
    "        return True\n",
    "    elif victoire_en_diagonale(plateau) :\n",
    "        return True\n",
    "    else :\n",
    "        return False"
   ]
  }
 ],
 "metadata": {
  "kernelspec": {
   "display_name": "Python 3",
   "language": "python",
   "name": "python3"
  },
  "language_info": {
   "codemirror_mode": {
    "name": "ipython",
    "version": 3
   },
   "file_extension": ".py",
   "mimetype": "text/x-python",
   "name": "python",
   "nbconvert_exporter": "python",
   "pygments_lexer": "ipython3",
   "version": "3.10.4"
  },
  "orig_nbformat": 4
 },
 "nbformat": 4,
 "nbformat_minor": 2
}
